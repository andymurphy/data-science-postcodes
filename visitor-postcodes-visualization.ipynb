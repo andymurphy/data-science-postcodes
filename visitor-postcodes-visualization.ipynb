{
 "cells": [
  {
   "cell_type": "markdown",
   "metadata": {},
   "source": [
    "This notebook uses a random sample of Hull postcodes to show how collecting this data from visitors to Hull museums can provide insight into from where people visit.\n",
    "Graphs can clearly show any gaps for particular postcode areas and these areas could be targeted with advertising or with outreach activities to encourage people from these areas to visit."
   ]
  },
  {
   "cell_type": "code",
   "execution_count": 10,
   "metadata": {},
   "outputs": [],
   "source": [
    "# Import modules needed\n",
    "import pandas as pd\n",
    "from matplotlib import pyplot as plt"
   ]
  },
  {
   "cell_type": "code",
   "execution_count": 11,
   "metadata": {},
   "outputs": [
    {
     "name": "stdout",
     "output_type": "stream",
     "text": [
      "   index postcode\n",
      "0      0  HU6 7SF\n",
      "1      1  HU6 7JJ\n",
      "2      2  HU3 5DD\n",
      "3      3  HU2 0PS\n",
      "4      4  HU3 6LY\n",
      "HU6 7SF\n"
     ]
    }
   ],
   "source": [
    "# Create the pandas dataframe and store the postcodes in a list\n",
    "postcodes_df = pd.read_csv('visitor_postcodes.csv')\n",
    "print(postcodes_df.head())\n",
    "postcodes = list(postcodes_df['postcode'])\n",
    "print(postcodes[0])"
   ]
  },
  {
   "cell_type": "markdown",
   "metadata": {},
   "source": [
    "First let's make a chart that plots the number of visitors form the different first halves of the visitor postcodes. E.g. HU1, HU2, HU3, ... up to HUxx.\n",
    "Let's see which postcode first halves we have in our data"
   ]
  },
  {
   "cell_type": "code",
   "execution_count": 12,
   "metadata": {},
   "outputs": [
    {
     "name": "stdout",
     "output_type": "stream",
     "text": [
      "['HU1', 'HU11', 'HU12', 'HU13', 'HU15', 'HU16', 'HU18', 'HU2', 'HU20', 'HU3', 'HU4', 'HU5', 'HU6', 'HU7', 'HU8', 'HU9']\n"
     ]
    }
   ],
   "source": [
    "# Get all the different first halves of the postcodes from our data\n",
    "postcode_first_half = []\n",
    "for i in range(len(postcodes)): #len(postcodes)\n",
    "    first_half = postcodes[i].split(' ')[0]\n",
    "    #print(first_half)\n",
    "    if first_half in postcode_first_half:\n",
    "        continue\n",
    "    else:\n",
    "        postcode_first_half.append(first_half)\n",
    "postcode_first_half.sort()\n",
    "print(postcode_first_half)\n",
    "\n",
    "    "
   ]
  },
  {
   "cell_type": "markdown",
   "metadata": {},
   "source": [
    "This isn't all the postcodes that exist in the area. Since we want to find out where the fewest visitors come from, it would be useful to show these on our graph.\n",
    "The full list goes from HU1 through to HU20 with no gaps in the numbers. The map below shows which area each postcode covers.\n"
   ]
  },
  {
   "cell_type": "markdown",
   "metadata": {},
   "source": [
    "![Image of Postcodes in Hull](https://www.gbmaps.com/4-digit-postcode-maps/hu-hull-postcode-district-map.gif)"
   ]
  },
  {
   "cell_type": "code",
   "execution_count": 13,
   "metadata": {},
   "outputs": [],
   "source": [
    "postcode_first_half_all = ['HU1', 'HU2', 'HU3', 'HU4', 'HU5', 'HU6', 'HU7', 'HU8', 'HU9', 'HU10', 'HU11', 'HU12', 'HU13', 'HU14', 'HU15','HU16', 'HU17', 'HU18', 'HU19', 'HU20']"
   ]
  },
  {
   "cell_type": "markdown",
   "metadata": {},
   "source": [
    "To create a bar graph we need to count how many times each of these postcode beginnings appears in our data. "
   ]
  },
  {
   "cell_type": "code",
   "execution_count": 14,
   "metadata": {},
   "outputs": [
    {
     "name": "stdout",
     "output_type": "stream",
     "text": [
      "[28, 8, 37, 15, 26, 29, 30, 27, 46, 0, 3, 1, 1, 0, 1, 1, 0, 1, 0, 1]\n"
     ]
    }
   ],
   "source": [
    "# Create a list to store the postcode counts\n",
    "counts =[0]*20\n",
    "\n",
    "# Loop through the data and add to the counts when we find a match\n",
    "for postcode in postcodes:\n",
    "    for i in range(len(postcode_first_half_all)):\n",
    "        if postcode_first_half_all[i] in postcode:\n",
    "            counts[i] += 1\n",
    "            \n",
    "print(counts)\n",
    "    "
   ]
  },
  {
   "cell_type": "markdown",
   "metadata": {},
   "source": [
    "We now have the basic data to create a bar chart."
   ]
  },
  {
   "cell_type": "code",
   "execution_count": 30,
   "metadata": {},
   "outputs": [
    {
     "data": {
      "text/plain": [
       "Text(0.5, 1.0, 'A bar chart to show the number of visitors from each of the Hull postcode areas.')"
      ]
     },
     "execution_count": 30,
     "metadata": {},
     "output_type": "execute_result"
    },
    {
     "data": {
      "image/png": "[encoded data removed]",
      "text/plain": [
       "<Figure size 864x576 with 1 Axes>"
      ]
     },
     "metadata": {
      "needs_background": "light"
     },
     "output_type": "display_data"
    }
   ],
   "source": [
    "# Plot the data from the lists\n",
    "fig = plt.figure(figsize=(12,8))\n",
    "plt.bar(postcode_first_half_all, counts)\n",
    "plt.xlabel('Postcode')\n",
    "plt.ylabel('Number of visitors')\n",
    "plt.title('A bar chart to show the number of visitors from each of the Hull postcode areas.')\n",
    "\n"
   ]
  },
  {
   "cell_type": "markdown",
   "metadata": {},
   "source": [
    "Using the bar chart and the map above we can see that most of the visitors in our imaginary sample come from the areas nearest to the city centre. The exception to this is HU2, which is close to the city centre but provides few visitors. Looking at the map, though, we can see that it is a small area and could perhaps be a primarily commercial or industrial area. However it is clear that the more rural areas outside the city borders are poorly represented and could be targeted with promotional material and outreach activities."
   ]
  }
 ],
 "metadata": {
  "kernelspec": {
   "display_name": "Python 3",
   "language": "python",
   "name": "python3"
  },
  "language_info": {
   "codemirror_mode": {
    "name": "ipython",
    "version": 3
   },
   "file_extension": ".py",
   "mimetype": "text/x-python",
   "name": "python",
   "nbconvert_exporter": "python",
   "pygments_lexer": "ipython3",
   "version": "3.7.7"
  }
 },
 "nbformat": 4,
 "nbformat_minor": 4
}
